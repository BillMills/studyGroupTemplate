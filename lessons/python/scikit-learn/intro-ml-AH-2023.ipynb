{
 "cells": [
  {
   "cell_type": "markdown",
   "metadata": {},
   "source": [
    "# Python: Intro to machine learning\n",
    "\n",
    "### Ahmed Hasan, borrowing heavily from Nil Sahin\n",
    "### UofT Coders, 2023/03/15\n",
    "\n",
    "## Intro\n",
    "\n",
    "\"Machine learning gives computers the ability to learn without being explicitly programmed.\" - Arthur Samuel, 1959\n",
    "\n",
    "Machine learning (ML) originated from pattern recognition and computational learning theory in AI. It is the study and construction of algorithms to learn from and make predictions on data through building a model from sample input.\n",
    "\n",
    "At its core, ML is grounded in statistics. That said, in statistics, we are typically choosing either or both of **inference** and **prediction** when approaching a problem. We might want our chosen model to tell us something about the relationship between features of interest, such as how much sales volume has increased given some increase in a marketing budget, and thus **infer** something about said features.\n",
    "\n",
    "Machine learning is mostly concerned with the **prediction** side of things, where we use relationships between variables to estimate the output for any arbitrary input. At many levels of ML, we are not as interested in understanding these relationships, and instead tend to treat the models as 'black boxes' -- especially as models increase in complexity. Our models therefore deal with the data as needed, but we're not as interested in peeking 'under the hood' for the purposes of learning more about the relationships within our data. \n",
    "\n",
    "## Some uses of ML algorithms\n",
    "\n",
    "- Classification: determine which discrete category the example is\n",
    "- Recognizing patterns: speech recognition, facial identity...\n",
    "- Recommender Systems: noisy data, commercial pay-off (e.g., Amazon, Netflix)\n",
    "- Information retrieval: find documents or images with similar content\n",
    "- Computer vision: detection, segmentation, depth estimation, optical flow...\n",
    "- Robotics: perception, planning ...\n",
    "- Learning to play games: AlphaGO\n",
    "- Recognizing anomalies: Unusual sequences of credit card transactions, panic situation at an airport\n",
    "- Spam filtering, fraud detection: The enemy adapts so we must adapt too\n",
    "- Large language models: GPT, LLaMA, PaLM...\n",
    "\n",
    "## Some risks to worry about\n",
    "\n",
    "- GIGO\n",
    "    - Garbage in, garbage out - if the data your model is trained on are 'garbage', your model will make equally made predictions (e.g. if you have a model showing a correlation between divorce rates and Honda sales, guess what it'll keep predicting)\n",
    "- Biased training data\n",
    "    - If you have an email spam predictor trained on a dataset that only has 1% spam examples, it's going to assume most emails are not spam\n",
    "- Overfitting\n",
    "    - Models can be too tightly tied to their data depending on how we fit them, making them not generalizable enough to new data (e.g. a model trying to predict Toronto's next mayor that's just trained on the last four years will likely tell you it'll be John Tory again) \n",
    "- Lack of explainability\n",
    "    - The 'black box'-ness of ML models can make their outputs hard to understand or explain\n",
    "- Extrapolation is not always appropriate\n",
    "    - Depends on your model! \n",
    "\n",
    "Still, ML used well and carefully is an incredibly powerful tool, and is already heavily integrated in the world around us.\n"
   ]
  },
  {
   "cell_type": "markdown",
   "metadata": {},
   "source": [
    "## Types of learning tasks\n",
    "\n",
    "- Supervised Learning: correct output known for each training example for predicting output when given an input vector\n",
    "    - Classification: 1-of-N output, e.g. object recognition, medical diagnosis\n",
    "    - Regression: real-valued-output, e.g.predicting market prices, customer ratings\n",
    "- Unsupervised Learning: for learning an internal representation of the input to capture regularities and structure in the data without any labels\n",
    "    - Clustering: dividing input into groups that are unknown beforehand\n",
    "    - Dimensionality reduction: extract informative features, e.g. PCA\n",
    "- Reinforcement Learning: perform an action with the goal to maximize payoff by the feedback of reward and punishments, e.g. playing a game against an opponent\n",
    "\n",
    "In this lesson, we'll cover:\n",
    "\n",
    "- Regression (e.g. Linear Regression)\n",
    "- Simple cross-validation\n",
    "- Clustering (e.g. K-means)\n",
    "\n",
    "We won't cover:\n",
    "\n",
    "- Classification (e.g. logistic regression)\n",
    "- Other classification and clustering algorithms (e.g. Neural Networks, Hierarchical Clustering)\n",
    "- Model selection (such as Bayesian Information Criteria - BIC)\n",
    "- Hyper-parameter selection\n",
    "- Dimensionality Reduction (e.g. PCA)\n",
    "- Anything else further down the AI world - there have been many developments in the last six months alone! \n",
    "\n",
    "We will assume:\n",
    "\n",
    "- A working knowledge of basic Python\n",
    "- Familiarity with the `matplotlib` and (especially) the `pandas` libraries\n",
    "- Some understanding of intro level undergrad statistics"
   ]
  },
  {
   "cell_type": "markdown",
   "metadata": {},
   "source": [
    "## The `iris` dataset\n",
    "\n",
    "- 150 rows with measurements of petal length, petal width, sepal length, and sepal width, split evenly across 3 species\n",
    "- Included in `sklearn`, the package we'll be using! \n",
    "\n",
    "## Linear regression with sklearn\n",
    "\n",
    "Linear regression might not be the most exciting thing, and is also not likely to be the first method many people think of when they think about ML. Concepts like 'neural networks' and 'generative AI' might sound very exciting, but it can be hard to get a solid understanding of ML fundamentals if we're to start there, and so they're outside the scope of this lesson. Still, linear models can be surprisingly useful even for fairly complicated-seeming problems, and (more importantly for us) the simplicity of linear regression makes it a useful means of exploring some foundational ML concepts. \n",
    "\n",
    "Let's introduce `sklearn` by fitting a linear model to the relationship between petal length (predictor) and petal width (response). From a statistical perspective, we might be interested in the relationship between these two, but in this case we will be fitting this model solely for the purposes of predicting petal width for any given petal length values."
   ]
  },
  {
   "cell_type": "code",
   "execution_count": 1,
   "metadata": {},
   "outputs": [],
   "source": [
    "from sklearn import linear_model # for linear regression functions\n",
    "from sklearn.datasets import load_iris # the iris dataset\n",
    "\n",
    "import numpy as np # for general data handling\n",
    "import pandas as pd # for data frames\n",
    "import matplotlib # for plotting\n",
    "import matplotlib.pyplot as plt"
   ]
  },
  {
   "cell_type": "code",
   "execution_count": 2,
   "metadata": {},
   "outputs": [
    {
     "data": {
      "text/html": [
       "<div>\n",
       "<style scoped>\n",
       "    .dataframe tbody tr th:only-of-type {\n",
       "        vertical-align: middle;\n",
       "    }\n",
       "\n",
       "    .dataframe tbody tr th {\n",
       "        vertical-align: top;\n",
       "    }\n",
       "\n",
       "    .dataframe thead th {\n",
       "        text-align: right;\n",
       "    }\n",
       "</style>\n",
       "<table border=\"1\" class=\"dataframe\">\n",
       "  <thead>\n",
       "    <tr style=\"text-align: right;\">\n",
       "      <th></th>\n",
       "      <th>sepal_length</th>\n",
       "      <th>sepal_width</th>\n",
       "      <th>petal_length</th>\n",
       "      <th>petal_width</th>\n",
       "      <th>species</th>\n",
       "    </tr>\n",
       "  </thead>\n",
       "  <tbody>\n",
       "    <tr>\n",
       "      <th>0</th>\n",
       "      <td>5.1</td>\n",
       "      <td>3.5</td>\n",
       "      <td>1.4</td>\n",
       "      <td>0.2</td>\n",
       "      <td>0.0</td>\n",
       "    </tr>\n",
       "    <tr>\n",
       "      <th>1</th>\n",
       "      <td>4.9</td>\n",
       "      <td>3.0</td>\n",
       "      <td>1.4</td>\n",
       "      <td>0.2</td>\n",
       "      <td>0.0</td>\n",
       "    </tr>\n",
       "    <tr>\n",
       "      <th>2</th>\n",
       "      <td>4.7</td>\n",
       "      <td>3.2</td>\n",
       "      <td>1.3</td>\n",
       "      <td>0.2</td>\n",
       "      <td>0.0</td>\n",
       "    </tr>\n",
       "    <tr>\n",
       "      <th>3</th>\n",
       "      <td>4.6</td>\n",
       "      <td>3.1</td>\n",
       "      <td>1.5</td>\n",
       "      <td>0.2</td>\n",
       "      <td>0.0</td>\n",
       "    </tr>\n",
       "    <tr>\n",
       "      <th>4</th>\n",
       "      <td>5.0</td>\n",
       "      <td>3.6</td>\n",
       "      <td>1.4</td>\n",
       "      <td>0.2</td>\n",
       "      <td>0.0</td>\n",
       "    </tr>\n",
       "  </tbody>\n",
       "</table>\n",
       "</div>"
      ],
      "text/plain": [
       "   sepal_length  sepal_width  petal_length  petal_width  species\n",
       "0           5.1          3.5           1.4          0.2      0.0\n",
       "1           4.9          3.0           1.4          0.2      0.0\n",
       "2           4.7          3.2           1.3          0.2      0.0\n",
       "3           4.6          3.1           1.5          0.2      0.0\n",
       "4           5.0          3.6           1.4          0.2      0.0"
      ]
     },
     "execution_count": 2,
     "metadata": {},
     "output_type": "execute_result"
    }
   ],
   "source": [
    "iris_raw = load_iris() # not yet a data frame\n",
    "iris = pd.DataFrame(\n",
    "    data=np.c_[iris_raw.data, iris_raw['target']])\n",
    "iris.columns = ['sepal_length', 'sepal_width', 'petal_length', 'petal_width', 'species']\n",
    "\n",
    "iris.head()"
   ]
  },
  {
   "cell_type": "code",
   "execution_count": 3,
   "metadata": {},
   "outputs": [
    {
     "data": {
      "text/plain": [
       "array([[0.41575542]])"
      ]
     },
     "execution_count": 3,
     "metadata": {},
     "output_type": "execute_result"
    }
   ],
   "source": [
    "# prepping our data for linear regression - need to reshape for sklearn\n",
    "n = iris.shape[0] # number of rows (150)\n",
    "x = iris.petal_length.values.reshape(n, 1)\n",
    "y = iris.petal_width.values.reshape(n, 1)\n",
    "\n",
    "# fit model\n",
    "lm = linear_model.LinearRegression()\n",
    "lm.fit(x, y) # fit y against x\n",
    "lm.coef_ # get coefficient - for that stats itch"
   ]
  },
  {
   "cell_type": "code",
   "execution_count": 4,
   "metadata": {},
   "outputs": [
    {
     "data": {
      "text/plain": [
       "[<matplotlib.lines.Line2D at 0x12536bac0>]"
      ]
     },
     "execution_count": 4,
     "metadata": {},
     "output_type": "execute_result"
    },
    {
     "data": {
      "image/png": "[encoded data removed]",
      "text/plain": [
       "<Figure size 576x576 with 1 Axes>"
      ]
     },
     "metadata": {
      "needs_background": "light"
     },
     "output_type": "display_data"
    }
   ],
   "source": [
    "# visualizing our fit\n",
    "fig, ax = plt.subplots(figsize=(8, 8))\n",
    "ax.scatter(x, y)\n",
    "ax.plot(x, lm.predict(x))"
   ]
  },
  {
   "cell_type": "markdown",
   "metadata": {},
   "source": [
    "To evaluate our model, we will calculate the **mean squared error** (MSE) and **R^2 scores**. MSE is reflective of the residuals (distance between each point and its prediction on the line) and lower values suggest a better model. R^2, on the other hand, contrasts the residuals with the overall distance (of all points) from the mean y value. While R^2 is probably easier to interpret, MSE is still useful mathematically speaking, as it's often the value we are trying to minimize. There exist many more advanced metrics (RMSE, adjusted R^2, etc.) that cover for some of the imperfections these two have and/or make them more appropriate for testing specific models, but their base versions are still a very useful starting point and important to understand. "
   ]
  },
  {
   "cell_type": "code",
   "execution_count": 5,
   "metadata": {},
   "outputs": [
    {
     "name": "stdout",
     "output_type": "stream",
     "text": [
      "0.04206730919499318\n",
      "0.9271098389904927\n"
     ]
    }
   ],
   "source": [
    "# evaluating our model\n",
    "from sklearn.metrics import r2_score, mean_squared_error\n",
    "\n",
    "print(mean_squared_error(y, lm.predict(x)))\n",
    "print(r2_score(y, lm.predict(x)))"
   ]
  },
  {
   "cell_type": "markdown",
   "metadata": {},
   "source": [
    "### Train/test splits - the validation set approach\n",
    "\n",
    "Look at that, a 0.93 R^2! This model must be amazing at predictions, right?\n",
    "\n",
    "Not so fast - this is us 'testing' on the very same data the model was trained on! We're fortunate that our data corresponds well to a linear fit, but this is not a good estimate of how well it generalizes to new data. For that, we need to evaluate it with 'known' values that the model has never seen before. Models may have great training set accuracy but be _terrible_ on new test data! \n",
    "\n",
    "One means of evaluating this is called the _validation set approach_, where we withhold a subset of the data from the model fit. We retain a (usually larger) subset of the data for training, and then test the model's predictions on the hold-out set. \n",
    "\n",
    "Since we have known expected outputs for the hold-out set (e.g. if we're predicting petal width based on petal length, we have both for these data points) we can compare our model predictions with these 'ground truth' values to assess our model's accuracy."
   ]
  },
  {
   "cell_type": "code",
   "execution_count": 6,
   "metadata": {},
   "outputs": [
    {
     "name": "stdout",
     "output_type": "stream",
     "text": [
      "[[0.38182003]]\n"
     ]
    },
    {
     "data": {
      "text/plain": [
       "[<matplotlib.lines.Line2D at 0x12546c970>]"
      ]
     },
     "execution_count": 6,
     "metadata": {},
     "output_type": "execute_result"
    },
    {
     "data": {
      "image/png": "[encoded data removed]",
      "text/plain": [
       "<Figure size 576x576 with 1 Axes>"
      ]
     },
     "metadata": {
      "needs_background": "light"
     },
     "output_type": "display_data"
    }
   ],
   "source": [
    "# let's withhold 50 observations for the test set, and use the remaining 50 for training the model:\n",
    "\n",
    "iris_train = iris.iloc[:-50] # exclude last 50 rows\n",
    "iris_test = iris.iloc[-50:] # only keep last 50 rows\n",
    "\n",
    "# get training x and y data\n",
    "train_x = iris_train.petal_length.values.reshape(iris_train.shape[0], 1)\n",
    "train_y = iris_train.petal_width.values.reshape(iris_train.shape[0], 1)\n",
    "\n",
    "# get test x and y data\n",
    "test_x = iris_test.petal_length.values.reshape(iris_test.shape[0], 1)\n",
    "test_y = iris_test.petal_width.values.reshape(iris_test.shape[0], 1)\n",
    "\n",
    "# fit model with training data\n",
    "lm = linear_model.LinearRegression() \n",
    "lm.fit(train_x, train_y)\n",
    "print(lm.coef_)\n",
    "\n",
    "# we can also plot what's going on here\n",
    "fig, ax = plt.subplots(figsize=(8, 8))\n",
    "ax.scatter(train_x, train_y)\n",
    "ax.plot(train_x, lm.predict(train_x))"
   ]
  },
  {
   "cell_type": "code",
   "execution_count": 7,
   "metadata": {},
   "outputs": [
    {
     "name": "stdout",
     "output_type": "stream",
     "text": [
      "0.1260677797201568\n",
      "-0.7053701060569884\n"
     ]
    }
   ],
   "source": [
    "# testing the model on the test data\n",
    "pred_y = lm.predict(test_x)\n",
    "\n",
    "# comparing predicted y values against actual y values\n",
    "print(mean_squared_error(test_y, pred_y))\n",
    "print(r2_score(test_y, pred_y))"
   ]
  },
  {
   "cell_type": "markdown",
   "metadata": {},
   "source": [
    "## K-fold cross-validation\n",
    "\n",
    "Another approach to validating our model performance that goes a step beyond validation set is _K-fold cross validation_. This is very similar to the approach above, but instead of us using a single hold-out set (which in the example above is a bit biased too, since the last few rows are all from one out of the three species!) we instead repeat the train/test split K times, with the different chunk of the data used as the hold-out set each time. K-fold allows for more data points to have the opportunity to be in both the train and test sets at some point. \n",
    "\n",
    "We'll do 5-fold CV below. The choice of K is a bit arbitrary, but a good starting point is to pick values where the dataset is nicely divisible by K, and 1/K of the dataset corresponds to a reasonable subsection (i.e. not like, half the dataset, nor a very tiny fraction). \n",
    "\n",
    "Fortunately, we don't need to do the train/test splitting K times ourselves - `sklearn` provides some functions to simplify this for us. The `KFold` function won't do the actual model fitting, but it'll return indices corresponding to train/test splits. That way, we can just re-fit the model each time in a loop. "
   ]
  },
  {
   "cell_type": "code",
   "execution_count": 8,
   "metadata": {},
   "outputs": [
    {
     "name": "stdout",
     "output_type": "stream",
     "text": [
      "[0.010950502617330904, 0.01435887741431815, 0.02917583830584813, 0.06226445107434637, 0.10967123374012987]\n",
      "0.04528418063039469\n",
      "[-0.1148701759726034, 0.9526300734104822, 0.38011674987574795, 0.6875668712817142, -0.45925651043933957]\n",
      "0.28923740163120026\n"
     ]
    }
   ],
   "source": [
    "from sklearn.model_selection import KFold\n",
    "\n",
    "k = 5\n",
    "k_splits = KFold(n_splits=k, random_state=None) # think of random_state like a seed value in R\n",
    "lm = linear_model.LinearRegression()\n",
    "\n",
    "# we'll store our metrics in lists\n",
    "mse_values = []\n",
    "r2_values = []\n",
    "\n",
    "for train_idx, test_idx in k_splits.split(iris.petal_length):\n",
    "    # training data\n",
    "    n = len(train_idx)\n",
    "    train_x = iris.iloc[train_idx].petal_length.values.reshape(n, 1)\n",
    "    train_y = iris.iloc[train_idx].petal_width.values.reshape(n, 1)\n",
    "    \n",
    "    # test data\n",
    "    n_test = len(test_idx)\n",
    "    test_x = iris.iloc[test_idx].petal_length.values.reshape(n_test, 1)\n",
    "    test_y = iris.iloc[test_idx].petal_width.values.reshape(n_test, 1)\n",
    "    \n",
    "    lm.fit(train_x, train_y)\n",
    "    pred_y = lm.predict(test_x)\n",
    "    mse_values.append(mean_squared_error(test_y, pred_y))\n",
    "    r2_values.append(r2_score(test_y, pred_y))\n",
    "    \n",
    "print(mse_values)\n",
    "print(sum(mse_values) / k)\n",
    "print(r2_values)\n",
    "print(sum(r2_values) / k)\n"
   ]
  },
  {
   "cell_type": "markdown",
   "metadata": {},
   "source": [
    "## K-means clustering\n",
    "\n",
    "We will wrap up by switching gears to clustering. So far, with regression, we've been looking at a _supervised_ approach, where our expected output is pre-defined (petal width values in our case). Clustering, on the other hand, is an example of an _unsupervised_ approach, in that we are using it to learn more about our data (in this case, the structure of it) without necessarily telling the algorithm what the expected output is. \n",
    "\n",
    "Let's see what kind of structure k-means finds within the petal width by petal length data. We'll leave the species labels out - this is an unsupervised algorithm after all! "
   ]
  },
  {
   "cell_type": "code",
   "execution_count": 9,
   "metadata": {},
   "outputs": [],
   "source": [
    "from sklearn.cluster import KMeans\n",
    "\n",
    "# kmeans expects data as numpy arrays in the form [[x1, y1], [x2, y2], ..., [xn, yn]]\n",
    "iris_petal_paired = np.c_[iris.petal_length, iris.petal_width]\n",
    "\n",
    "# we'll give it 3 clusters to begin with\n",
    "n_clusters = 3\n",
    "kmeans = KMeans(n_clusters)\n",
    "kmeans.fit(iris_petal_paired)\n",
    "clusters = kmeans.predict(iris_petal_paired) # predicted cluster centers"
   ]
  },
  {
   "cell_type": "code",
   "execution_count": 10,
   "metadata": {},
   "outputs": [
    {
     "data": {
      "text/plain": [
       "<matplotlib.collections.PathCollection at 0x127bc6850>"
      ]
     },
     "execution_count": 10,
     "metadata": {},
     "output_type": "execute_result"
    },
    {
     "data": {
      "image/png": "[encoded data removed]",
      "text/plain": [
       "<Figure size 864x432 with 2 Axes>"
      ]
     },
     "metadata": {
      "needs_background": "light"
     },
     "output_type": "display_data"
    }
   ],
   "source": [
    "# plotting the data - we'll do clusters, and then shade by species out of curiosity\n",
    "fig, (ax1, ax2) = plt.subplots(1, 2, figsize=(12, 6))\n",
    "ax1.scatter(iris_petal_paired[:, 0], iris_petal_paired[:, 1], c=clusters)\n",
    "ax2.scatter(iris_petal_paired[:, 0], iris_petal_paired[:, 1], c=iris.species)"
   ]
  },
  {
   "cell_type": "markdown",
   "metadata": {},
   "source": [
    "# Further reading\n",
    "\n",
    "- N\n",
    "- `sklearn` class and function reference page http://scikit-learn.org/stable/modules/classes.html#module-sklearn.linear_model\n",
    "- Machine Learning course from Computer Science Department, UofT http://www.cs.toronto.edu/~urtasun/courses/CSC411_Fall16/CSC411_Fall16.html \n",
    "- TPOT for optimized machine learning pipelines https://rhiever.github.io/tpot/\n",
    "- KERAS package for Neural Networks https://keras.io/"
   ]
  }
 ],
 "metadata": {
  "kernelspec": {
   "display_name": "Python 3",
   "language": "python",
   "name": "python3"
  },
  "language_info": {
   "codemirror_mode": {
    "name": "ipython",
    "version": 3
   },
   "file_extension": ".py",
   "mimetype": "text/x-python",
   "name": "python",
   "nbconvert_exporter": "python",
   "pygments_lexer": "ipython3",
   "version": "3.8.12"
  }
 },
 "nbformat": 4,
 "nbformat_minor": 4
}
