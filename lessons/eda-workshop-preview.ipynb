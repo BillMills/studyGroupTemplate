{
 "cells": [
  {
   "cell_type": "markdown",
   "metadata": {},
   "source": [
    "# Exploratory data analysis in Python with pandas and seaborn\n",
    "In this workshop we are going to explore a dataset using two powerful Python libraries: [pandas](http://pandas.pydata.org/) and [seaborn](http://seaborn.pydata.org/). We will see that pandas provides us with flexible data structures and powerful methods to manipulate them, while seaborn will make sure that we get some sexy plots in the end. \n",
    "\n",
    "A few concepts before we get started:\n",
    "- What pandas gives you is essentially two data structures: the [DataFrame](https://pandas.pydata.org/pandas-docs/stable/dsintro.html#dataframe), which is a 2D (tabular) labelled data structure, and the [Series](https://pandas.pydata.org/pandas-docs/stable/dsintro.html#series), which is basically a 1D DataFrame. \n",
    "- You can create dataframes and series in a number of ways. \n",
    "- A dataframe can contain data of basically any type: integers, floating point numbers, strings, Python objects).\n",
    "- Once your data is in a pandas dataframe, you have at your disposal a vast arsenal of methods to slice it, index it, and manipulate it. Processing steps that would normally give you a headache if you were working with standard tools (or at least require several lines of code) will become one-liners in pandas.\n",
    "- Seaborn builds on top of pandas and allows to make amazing plots with only a few lines of code.\n",
    "\n",
    "In this workshop we use a common dataset on the sinking of the Titanic, which contains information about passangers and on whether they survived the disaster. "
   ]
  },
  {
   "cell_type": "markdown",
   "metadata": {},
   "source": [
    "## Overview of topics covered\n",
    "- Getting a quick overview of the dataset\n",
    "- Selecting and indexing data\n",
    "- Generating some sexy plots with seaborn\n",
    "- The magic of groupby"
   ]
  },
  {
   "cell_type": "markdown",
   "metadata": {},
   "source": [
    "## Getting a quick overview of your data"
   ]
  },
  {
   "cell_type": "code",
   "execution_count": 1,
   "metadata": {
    "collapsed": true
   },
   "outputs": [],
   "source": [
    "import pandas as pd\n",
    "import numpy as np\n",
    "import matplotlib.pyplot as plt\n",
    "import seaborn as sns\n",
    "df = pd.read_csv('train.csv')"
   ]
  },
  {
   "cell_type": "markdown",
   "metadata": {},
   "source": [
    "### Demonstration..."
   ]
  },
  {
   "cell_type": "markdown",
   "metadata": {},
   "source": [
    "## Selecting and indexing data\n",
    "A great feature of pandas data structures is that we have powerful ways of selecting parts of our data, for instance entries that satisfy certain criteria. Indexing can be done by label using `.loc` or by position with `.iloc`. \n",
    "\n",
    "Suppose `df` is a dataframe. If you write `df.loc[:, 1]`, then `1` is interpreted by pandas as the label, so it will look for a column called `1`. On the other hand, `df.iloc[:, 1]` will give you the second column, regardless of what its name is. Same thing if we index rows: `df.loc[2, :]` will look in `df.index` to find row whose index is `2`, whereas `df.iloc[2, :]` will give you the third row, even if the value of its index is `3789` or `power_rangers`. \n",
    "\n",
    "This is often confusing for people who are getting started with pandas. Chances are, you probably only ever indexed by position when working with numeric arrays, so be aware of this difference when working with pandas dataframes. **As always**, the best way to learn about this is to read [pandas wonderful docs](https://pandas.pydata.org/pandas-docs/stable/indexing.html)."
   ]
  },
  {
   "cell_type": "markdown",
   "metadata": {},
   "source": [
    "### Demonstration..."
   ]
  },
  {
   "cell_type": "markdown",
   "metadata": {},
   "source": [
    "### Question:\n",
    "What if I wanted to select the age of female passangers that travelled in either first or second class?"
   ]
  },
  {
   "cell_type": "code",
   "execution_count": 2,
   "metadata": {
    "collapsed": true
   },
   "outputs": [],
   "source": [
    "# your answer"
   ]
  },
  {
   "cell_type": "markdown",
   "metadata": {},
   "source": [
    "### Question:\n",
    "Can we find out how many male and female survivors there are?"
   ]
  },
  {
   "cell_type": "code",
   "execution_count": 3,
   "metadata": {
    "collapsed": true
   },
   "outputs": [],
   "source": [
    "# your answer"
   ]
  },
  {
   "cell_type": "markdown",
   "metadata": {},
   "source": [
    "### Question:\n",
    "Can we find the fraction of male and female survivors, respectively?"
   ]
  },
  {
   "cell_type": "markdown",
   "metadata": {},
   "source": [
    "## Making some sexy plots\n",
    "In this section we want to drive home two points: \n",
    "- seaborn is super easy to use and gives you good-looking plots with minimal effort\n",
    "- you can do so much more than the standard barplot"
   ]
  },
  {
   "cell_type": "markdown",
   "metadata": {},
   "source": [
    "### Demonstration..."
   ]
  },
  {
   "cell_type": "markdown",
   "metadata": {},
   "source": [
    "### Question\n",
    "Look up the documentation for [seaborn violinplot](https://seaborn.pydata.org/generated/seaborn.violinplot.html) and get a feel for how you can tweak your plot. In particular, you have several options for the `inner` argument that are quite interesting. "
   ]
  },
  {
   "cell_type": "code",
   "execution_count": 4,
   "metadata": {
    "collapsed": true
   },
   "outputs": [],
   "source": [
    "# your answer"
   ]
  },
  {
   "cell_type": "markdown",
   "metadata": {},
   "source": [
    "### Question\n",
    "Can you make a violin plot to visualize the distribution of fares for survivors versus victims, while keeping male and female passangers separate?"
   ]
  },
  {
   "cell_type": "code",
   "execution_count": 5,
   "metadata": {
    "collapsed": true
   },
   "outputs": [],
   "source": [
    "# your answer"
   ]
  },
  {
   "cell_type": "markdown",
   "metadata": {},
   "source": [
    "### Question\n",
    "We now would like to take age into account. Split the data into three arbitrary age groups and visualize the distribution of fares across age groups."
   ]
  },
  {
   "cell_type": "code",
   "execution_count": 6,
   "metadata": {
    "collapsed": true
   },
   "outputs": [],
   "source": [
    "# your answer"
   ]
  },
  {
   "cell_type": "markdown",
   "metadata": {},
   "source": [
    "## The magic of groupby\n",
    "Previously, we calculated the number of male and female survivors by doing something like:"
   ]
  },
  {
   "cell_type": "code",
   "execution_count": 7,
   "metadata": {},
   "outputs": [
    {
     "name": "stdout",
     "output_type": "stream",
     "text": [
      "Male survivors: 109 \n",
      "Female survivors: 233\n"
     ]
    }
   ],
   "source": [
    "male_survivors = df.loc[(df['Sex']=='male') & (df['Survived']==1), :].shape[0]\n",
    "female_survivors = df.loc[(df['Sex']=='female') & (df['Survived']==1), :].shape[0]\n",
    "print('Male survivors: %s \\nFemale survivors: %s' %(male_survivors, female_survivors))"
   ]
  },
  {
   "cell_type": "markdown",
   "metadata": {},
   "source": [
    "Now, what if we wanted to compute the total number of survivor per gender but also per class? We would have to start by splitting the selection above further, introducing a new condition that selects out each class. Since we have three classes, we would have to write 6 lines in total (or write a loop). It turns out that pandas makes this awfully easy for us. "
   ]
  },
  {
   "cell_type": "markdown",
   "metadata": {},
   "source": [
    "### Demonstration..."
   ]
  },
  {
   "cell_type": "markdown",
   "metadata": {},
   "source": [
    "With `groupby`, we can very quickly aggregate our data in complicated ways and compute functions (like the sum above, or the mean, or something else) on the aggregation. "
   ]
  }
 ],
 "metadata": {
  "kernelspec": {
   "display_name": "Python 3",
   "language": "python",
   "name": "python3"
  },
  "language_info": {
   "codemirror_mode": {
    "name": "ipython",
    "version": 3
   },
   "file_extension": ".py",
   "mimetype": "text/x-python",
   "name": "python",
   "nbconvert_exporter": "python",
   "pygments_lexer": "ipython3",
   "version": "3.5.2"
  }
 },
 "nbformat": 4,
 "nbformat_minor": 2
}
