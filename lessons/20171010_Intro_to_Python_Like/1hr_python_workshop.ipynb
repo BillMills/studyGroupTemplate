{
 "cells": [
  {
   "cell_type": "markdown",
   "metadata": {},
   "source": [
    "Why use Python?\n",
    "Why learn programming?\n",
    "- EFFICIENCY\n",
    "- less error-prone when repeating\n",
    "- when done correctly: easier to reproduce/recollect what you have done\n",
    "\n",
    "program = protocol\n",
    "\n",
    "Why use notebook?\n",
    "- digital labjournal\n",
    "- reproducability\n",
    "- overview\n",
    "\n",
    "Goals of this workshop\n",
    "- explain basic concepts in programming, using Python as an example language\n",
    "- get feedback!\n"
   ]
  },
  {
   "cell_type": "markdown",
   "metadata": {},
   "source": [
    "### 1. Variables\n",
    "#### 1.1 Understand what variables are \n",
    "#### 1.2 Know how to assign values to variables"
   ]
  },
  {
   "cell_type": "code",
   "execution_count": 3,
   "metadata": {
    "collapsed": false
   },
   "outputs": [
    {
     "name": "stdout",
     "output_type": "stream",
     "text": [
      "73\n",
      "37\n"
     ]
    }
   ],
   "source": [
    "# Let's define a variable 'weight_kg' and assign a value to it\n",
    "\n",
    "weight_kg = 73\n",
    "print(weight_kg)\n",
    "\n",
    "# a variable is just a name, you can also use different names\n",
    "Like = 37\n",
    "print (Like)\n",
    "#variables can not start with a number\n",
    "\n"
   ]
  },
  {
   "cell_type": "code",
   "execution_count": 4,
   "metadata": {
    "collapsed": false
   },
   "outputs": [
    {
     "name": "stdout",
     "output_type": "stream",
     "text": [
      "37\n",
      "2\n"
     ]
    }
   ],
   "source": [
    "# variables are case sensitive\n",
    "like = 2\n",
    "\n",
    "print(Like)\n",
    "print(like)"
   ]
  },
  {
   "cell_type": "markdown",
   "metadata": {},
   "source": [
    "#### 1.3 Be able to perform operations on variables: build in operations"
   ]
  },
  {
   "cell_type": "code",
   "execution_count": 5,
   "metadata": {
    "collapsed": false
   },
   "outputs": [
    {
     "name": "stdout",
     "output_type": "stream",
     "text": [
      "73000\n",
      "75\n",
      "73000\n"
     ]
    }
   ],
   "source": [
    "# we can perform operations on variables\n",
    "\n",
    "weight_gr = 1000 * weight_kg\n",
    "print(weight_gr)\n",
    "\n",
    "# varibales do not change their value unless you do so by assignment\n",
    "weight_kg = 75\n",
    "print(weight_kg)\n",
    "print(weight_gr)"
   ]
  },
  {
   "cell_type": "code",
   "execution_count": 6,
   "metadata": {
    "collapsed": false
   },
   "outputs": [
    {
     "name": "stdout",
     "output_type": "stream",
     "text": [
      "True\n"
     ]
    }
   ],
   "source": [
    "# we can also compare the values of variables\n",
    "print(weight_gr > weight_kg) "
   ]
  },
  {
   "cell_type": "markdown",
   "metadata": {},
   "source": [
    "#### 1.4 Know that variables can be different types: build in types in Python: int, float, char"
   ]
  },
  {
   "cell_type": "code",
   "execution_count": 7,
   "metadata": {
    "collapsed": false
   },
   "outputs": [
    {
     "name": "stdout",
     "output_type": "stream",
     "text": [
      "L\n",
      "Like\n"
     ]
    }
   ],
   "source": [
    "# So far, the values we assigned to variables are numbers. We can also assign letters or words\n",
    "firstLetter = 'L'\n",
    "print(firstLetter)\n",
    "name = 'Like'\n",
    "print(name)\n"
   ]
  },
  {
   "cell_type": "code",
   "execution_count": 8,
   "metadata": {
    "collapsed": false
   },
   "outputs": [],
   "source": [
    "# we can use floating point nummber to add precision\n",
    "#float\n",
    "weight_kg = 75.2531\n",
    "\n",
    "# list\n",
    "weight2017_perMonth = [75, 74, 73, 73, 72, 72, 72, 73, 73]"
   ]
  },
  {
   "cell_type": "code",
   "execution_count": 9,
   "metadata": {
    "collapsed": false
   },
   "outputs": [
    {
     "name": "stdout",
     "output_type": "stream",
     "text": [
      "4\n",
      "9\n",
      "<type 'str'>\n",
      "<type 'float'>\n",
      "<type 'list'>\n",
      "[2, 3, 4, 5, 6, 7, 8, 9]\n"
     ]
    }
   ],
   "source": [
    "# there are other operations than numerical ones that are build in\n",
    "# e.g. give the length of a string\n",
    "print(len(name)) # name = 'Like'\n",
    "# or a list\n",
    "print(len(weight2017_perMonth))\n",
    "\n",
    "# give the type\n",
    "print(type(name))\n",
    "\n",
    "#exercise: determine the type of some the variables that we used above, e.g weight_kg\n",
    "#what is the type of weight_kg?\n",
    "print(type(weight_kg))\n",
    "\n",
    "\n",
    "print(type(weight2017_perMonth))\n",
    "\n",
    "# results of these operations can be of different types\n",
    "# integer\n",
    "# but also a list\n",
    "print(range(2,10))\n"
   ]
  },
  {
   "cell_type": "markdown",
   "metadata": {},
   "source": [
    "#### 1.5 Outcome of operations can change with type"
   ]
  },
  {
   "cell_type": "code",
   "execution_count": 16,
   "metadata": {
    "collapsed": false
   },
   "outputs": [
    {
     "name": "stdout",
     "output_type": "stream",
     "text": [
      "(73, 73000)\n",
      "(True, <type 'int'>, <type 'int'>)\n",
      "(False, <type 'str'>, <type 'int'>)\n",
      "73002\n"
     ]
    },
    {
     "ename": "TypeError",
     "evalue": "cannot concatenate 'str' and 'int' objects",
     "output_type": "error",
     "traceback": [
      "\u001b[0;31m---------------------------------------------------------------------------\u001b[0m",
      "\u001b[0;31mTypeError\u001b[0m                                 Traceback (most recent call last)",
      "\u001b[0;32m<ipython-input-16-8f1635b00f30>\u001b[0m in \u001b[0;36m<module>\u001b[0;34m()\u001b[0m\n\u001b[1;32m     16\u001b[0m \u001b[0;34m\u001b[0m\u001b[0m\n\u001b[1;32m     17\u001b[0m \u001b[0;31m#but some don't work:\u001b[0m\u001b[0;34m\u001b[0m\u001b[0;34m\u001b[0m\u001b[0m\n\u001b[0;32m---> 18\u001b[0;31m \u001b[0mweight_afterChristmass\u001b[0m \u001b[0;34m=\u001b[0m \u001b[0mweight_kg\u001b[0m \u001b[0;34m+\u001b[0m \u001b[0;36m2\u001b[0m\u001b[0;34m\u001b[0m\u001b[0m\n\u001b[0m\u001b[1;32m     19\u001b[0m \u001b[0;32mprint\u001b[0m\u001b[0;34m(\u001b[0m\u001b[0mweight_afterChristmass\u001b[0m\u001b[0;34m)\u001b[0m\u001b[0;34m\u001b[0m\u001b[0m\n\u001b[1;32m     20\u001b[0m \u001b[0;34m\u001b[0m\u001b[0m\n",
      "\u001b[0;31mTypeError\u001b[0m: cannot concatenate 'str' and 'int' objects"
     ]
    }
   ],
   "source": [
    "# Comparison of variables has different outcomes depending on type, remember from above:\n",
    "weight_kg = 73\n",
    "weight_gr = 1000 * weight_kg\n",
    "print(weight_kg, weight_gr)\n",
    "\n",
    "print(weight_gr > weight_kg, type(weight_kg), type(weight_gr))\n",
    "\n",
    "#chance one of them into a str\n",
    "weight_kg = '73'\n",
    "print(weight_gr > weight_kg, type(weight_kg), type(weight_gr))\n",
    "\n",
    "\n",
    "#chance one into \n",
    "weight_afterChristmass = weight_gr + 2\n",
    "print(weight_afterChristmass)\n",
    "\n",
    "#but some don't work:\n",
    "weight_afterChristmass = weight_kg + 2\n",
    "print(weight_afterChristmass)\n",
    "\n"
   ]
  },
  {
   "cell_type": "code",
   "execution_count": null,
   "metadata": {
    "collapsed": true
   },
   "outputs": [],
   "source": [
    "# + on lists\n",
    "weight2016_perMonth = [75, 74, 73, 73, 72, 72, 72, 73, 73, 74, 74, 74]\n",
    "print len(weight2016_perMonth)\n",
    " \n",
    "weight_last_two_years = weight2016_perMonth + weight2017_perMonth\n",
    "print len(weight_last_two_years)\n",
    "\n",
    "# exercise\n",
    "# strings are lists to, can you add my last name 'Fokkens' to my first name to get a full name?"
   ]
  },
  {
   "cell_type": "markdown",
   "metadata": {
    "collapsed": true
   },
   "source": [
    "### Take home:\n",
    "- variables are a way to store values. These values are objects, numerical or other.\n",
    "- you can perform operations on variables (and store the resulting value in another variable)\n",
    "- variables have a certain type\n",
    "\n",
    "\n",
    "- it is important to test your code\n",
    "- error messages can help direct you to the problem in the code"
   ]
  },
  {
   "cell_type": "markdown",
   "metadata": {},
   "source": [
    "### 2. Repeating operations: for loops\n"
   ]
  },
  {
   "cell_type": "code",
   "execution_count": 43,
   "metadata": {
    "collapsed": false
   },
   "outputs": [
    {
     "name": "stdout",
     "output_type": "stream",
     "text": [
      "75\n",
      "74\n",
      "73\n",
      "73\n",
      "72\n",
      "72\n",
      "72\n",
      "73\n",
      "73\n"
     ]
    }
   ],
   "source": [
    "for weight in weight2017_perMonth:\n",
    "    print weight"
   ]
  },
  {
   "cell_type": "code",
   "execution_count": 17,
   "metadata": {
    "collapsed": false
   },
   "outputs": [
    {
     "name": "stdout",
     "output_type": "stream",
     "text": [
      "75000\n",
      "74000\n",
      "73000\n",
      "73000\n",
      "72000\n",
      "72000\n",
      "72000\n",
      "73000\n",
      "73000\n",
      "[75, 74, 73, 73, 72, 72, 72, 73, 73]\n",
      "73000\n",
      "[75000, 74000, 73000, 73000, 72000, 72000, 72000, 73000, 73000]\n"
     ]
    }
   ],
   "source": [
    "# exercise: can you print weight as grams for this list?\n",
    "for weight in weight2017_perMonth:\n",
    "    print weight*1000\n",
    "\n",
    "#\n",
    "# Can you change the list itself into grams?\n",
    "# possible mistake:\n",
    "for weight in weight2017_perMonth:\n",
    "    weight = weight*1000\n",
    "    \n",
    "# list did not change, because you only assign value from list to variable but do nothing to the list itself\n",
    "print(weight2017_perMonth) \n",
    "print(weight) # weight did change\n",
    "\n",
    "# how you change the list\n",
    "for i in range(len(weight2017_perMonth)):\n",
    "    weight2017_perMonth[i] = weight2017_perMonth[i] * 1000\n",
    "    \n",
    "print(weight2017_perMonth)"
   ]
  },
  {
   "cell_type": "markdown",
   "metadata": {},
   "source": [
    "### 3. Functions\n",
    "Suppose you want to change weight from kilos into grams for more weight lists.\n",
    "Of course you can use copy-paste, but it is better to define a function -like len(), type(), etc. "
   ]
  },
  {
   "cell_type": "code",
   "execution_count": 19,
   "metadata": {
    "collapsed": false
   },
   "outputs": [
    {
     "name": "stdout",
     "output_type": "stream",
     "text": [
      "[75000, 74000, 73000, 73000, 72000, 72000, 72000, 73000, 73000]\n"
     ]
    }
   ],
   "source": [
    "def convert_kg_to_gr(weight_in_kg):\n",
    "    weight_in_gr = weight_in_kg * 1000\n",
    "    return weight_in_gr\n",
    "\n",
    "# use enumerate to access index and value in a list\n",
    "weight2017_perMonth = [75, 74, 73, 73, 72, 72, 72, 73, 73]\n",
    "for i, weight in enumerate(weight2017_perMonth):\n",
    "    weight2017_perMonth[i] = convert_kg_to_gr(weight)\n",
    "    \n",
    "print(weight2017_perMonth)\n",
    "\n",
    "for i, weight in enumerate(weight2016_perMonth):\n",
    "    weight2016_perMonth[i] = convert_kg_to_gr(weight)"
   ]
  },
  {
   "cell_type": "markdown",
   "metadata": {},
   "source": [
    "### Take home:\n",
    "We use for loops / functions for\n",
    "- efficiency\n",
    "- to make sure we do the same thing to each item in the list\n"
   ]
  },
  {
   "cell_type": "markdown",
   "metadata": {},
   "source": [
    "### 4. Libraries\n",
    "To extent upon existing objects and functions there are libraries, that contain objects and functions \n",
    "\n",
    "numpy: calculate mean etc.\n",
    "objects: array\n",
    "\n",
    "matplotlib: plotting \n",
    "\n"
   ]
  },
  {
   "cell_type": "code",
   "execution_count": 20,
   "metadata": {
    "collapsed": false
   },
   "outputs": [
    {
     "name": "stdout",
     "output_type": "stream",
     "text": [
      "73000.0\n"
     ]
    }
   ],
   "source": [
    "import numpy\n",
    "\n",
    "weight_as_array = numpy.array(weight2017_perMonth)\n",
    "\n",
    "#you can use functions tot calculate e.g. the mean and standard deviation of the weight in a year\n",
    "# use numpy.mean so Python knows where 'mean()' is defined\n",
    "print numpy.mean(weight_as_array)\n"
   ]
  },
  {
   "cell_type": "code",
   "execution_count": null,
   "metadata": {
    "collapsed": true
   },
   "outputs": [],
   "source": []
  }
 ],
 "metadata": {
  "kernelspec": {
   "display_name": "Python 2",
   "language": "python",
   "name": "python2"
  },
  "language_info": {
   "codemirror_mode": {
    "name": "ipython",
    "version": 2
   },
   "file_extension": ".py",
   "mimetype": "text/x-python",
   "name": "python",
   "nbconvert_exporter": "python",
   "pygments_lexer": "ipython2",
   "version": "2.7.13"
  }
 },
 "nbformat": 4,
 "nbformat_minor": 2
}
