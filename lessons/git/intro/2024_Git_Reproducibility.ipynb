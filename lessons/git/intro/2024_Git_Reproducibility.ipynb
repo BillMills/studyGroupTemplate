{
 "cells": [
  {
   "cell_type": "markdown",
   "metadata": {},
   "source": [
    "# Reproducibility, the BASH console and GIT\n",
    "\n",
    "---\n",
    "\n",
    "## Reproducibility: What is it, What does it mean, Why it's important\n",
    "\n",
    "The concept of reproducibility is just that \\- **is your work reproducible**? Reproduction of methods, analyses and results is important not only in scientific research but also in day\\-to\\-day activities. It is a major factor that determines if **research results are consistent and valid** If your work is reproducible, then **valid experiments and results build authentic discoveries that are more reliable** in your field and help develop robust literature for future research studies. While reproducibility ensures that your work is accurate and reliable, it can also **encourage community involvement and participation**. _**Remember, if your foundation is shaky then so is all the work built upon it**_\n",
    "\n",
    "<p align=\"center\"> \n",
    "    <img src=\"./Figures/Reproducibility.jpeg\"   width=\"596.667px\"  height=\"459.661px\" /> \n",
    "</p>\n",
    "\n",
    "There are different fields of reproducibility :\n",
    "\n",
    "1. **Scientific** Reproducibility \\- **Can your results be reproduced from your methods?**\n",
    "2. **Computational** Reproducibility \\- **Can your results be reproduced from your code?**\n",
    "3. **Statistical** Reproducibility \\- **Are your methods robust enough to reproduce your results?**\n",
    "\n",
    "While talk of reproducibility is all good and dandy, it may not be available to everyone. There are significant barriers to reproducibility including:\n",
    "\n",
    "- **Costs**\n",
    "- The structure of dissemination does not currently fully support reproducibility\n",
    "- **Lack of training and incentives**\n",
    "- **Takes time, held to a higher standard**\n",
    "- Privacy and security\n",
    "- Differences between fields\n",
    "\n",
    "Your job as a scientist and a researcher is to try your best to ensure that your work is reproducible. **If the ability is beyond your means, do not hesitate to say so.** Science is about being open and transparent\n",
    "\n",
    "There are many tools and conventions to help with your reproducibility journey. These include having a proper workflow and file organization system, as well as GIT for version control\n",
    "\n"
   ]
  },
  {
   "cell_type": "markdown",
   "metadata": {},
   "source": [
    "## Workflows\n",
    "\n",
    "One way to ensure reproducibility is to have a well\\-organized project workflow and management. A common way to organize your files is by **project i.e. a project\\-oriented workflow**. Here, each project that you are working on is **self\\-contained in its own folder**, with its **different data types in different folders**. I.e. your raw data should be in a different folder than your processed data, documents and files should be in another folder etc. \n",
    "\n",
    "<p align=\"center\"> \n",
    "    <img src=\"./Figures/File Organization.png\"   width=\"596.667px\"  height=\"459.661px\" /> \n",
    "    <br>\n",
    "    <em> Note the differences between the first pane and the other two. The first pane, different file types are in the same folder which makes it difficult to find and filter through projects. In the second pane, all the projects are sorted into their own respective folders and with their own subdirectories based on their analysis or function. </em>\n",
    "</p>\n",
    "\n"
   ]
  },
  {
   "cell_type": "markdown",
   "metadata": {},
   "source": [
    "## File Paths\n",
    "\n",
    "Having a default file structure can also help with your own mental organization of your file paths. There are two types of file paths: **absolute and relative**. \n",
    "\n",
    "### Absolute File Paths\n",
    "\n",
    "Absolute file paths **start at your root file and mention every directory before arriving at your file**. For example, if I wanted to get the absolute file path of the CSV in the above figure, it would look something like this: `/Users/yeshoda/Desktop/Projects/Salt Tolerance/Chlamy sample - Sheet1.csv`, Where `Chlamy sample - Sheet1.csv` is the name of my file, which is located in the `Salt Tolerance/` folder. This folder is in the `Projects/` folder which is on my `Desktop/` \\(also a folder\\), within my user folder \\(`yeshoda/`\\), within the`Users/` folder in the **root** \\(`/`\\). The / **denotes a directory \\(also known as a folder\\)**. Absolute file paths are useful when trying to find files you're looking for, however, **they are sensitive to breaking**. For example, if I moved `Projects/` to `Documents/` rather than `Desktop/` my path will **no longer work and will cause an error**. \n",
    "\n",
    "### Relative File Paths\n",
    "\n",
    "Relative file paths are **relative to the current directory that you are working in**. Your current directory will be noted with a ./ and the parent directory will be denoted with ../ For example if I am in the `Figures/` directory and wish to go to the `References/` directory I can type: `cd ../References/.` Here I'm using the `cd` command which stands for **change directory**, and then specify I want to move into my parent folder Salt Tolerance \\(`../`\\) and then into `References/.` The benefit of using absolute paths is that now if I moved `Projects/` to `Documents/` rather than `Desktop/` **my path still works**. \n",
    "\n",
    "**There is no right or wrong file path format**! **Choose the one that works for you and for the type of project that you have.** If you know the hierarchy of your folders, relative paths might serve better. However, if you do not know the hierarchy but know where your file is in general then an absolute path might serve better. \n",
    "\n",
    "<p align=\"center\"> \n",
    "    <img src=\"./Figures/File_Paths.jpeg\"   width=\"596.667px\"  height=\"459.661px\" /> \n",
    "    <br>\n",
    "    <em> devopsschool </em>\n",
    "</p>\n",
    "\n",
    "Just like variable names, **it helps to name your folders something meaningful.** Folders called `1/` and `2/` do not do much to help you when you need to find your files.\n",
    "\n"
   ]
  },
  {
   "cell_type": "markdown",
   "metadata": {},
   "source": [
    "## BASH - Quick Recap\n",
    "\n",
    "Before we dive into GIT, let's refresh ourselves with some commonly used BASH commands. BASH is the typical Unix shell and command language for your computers. You can use BASH on your terminals. For your note\\-keeping, we can use BASH within a Python notebook! We just need to tell Python, hey! this cell is just going to run BASH \\- don't run me with Python! **We can do this by using a magic command denoted with** **`%%`**`. By running %%bash`, we're telling Python to run this entire cell in BASH. **It must be the first line in the cell or it will not work**. Let's try it out:\n"
   ]
  },
  {
   "cell_type": "code",
   "execution_count": 1,
   "metadata": {},
   "outputs": [
    {
     "name": "stderr",
     "output_type": "stream",
     "text": [
      "UsageError: %%bash is a cell magic, but the cell body is empty.\n"
     ]
    }
   ],
   "source": [
    "%%bash # denotes the start of a magic cell"
   ]
  },
  {
   "cell_type": "markdown",
   "metadata": {},
   "source": [
    "Amazing! Now let's go ahead and play with some commonly used commands:\n",
    "\n"
   ]
  },
  {
   "cell_type": "code",
   "execution_count": 2,
   "metadata": {},
   "outputs": [
    {
     "name": "stdout",
     "output_type": "stream",
     "text": [
      "/Users/princess/Downloads/10_reproducibility\n",
      "BINF5503_Week10_Class\n",
      "Figures\n",
      "Master_week10_module5_Reproducibility.html.html\n",
      "Master_week10_module5_Reproducibility.html.ipynb\n",
      "Master_week10_module5_Reproducibility.html.pdf\n",
      "STUDENT_week10_module5_Reproducibility.html.ipynb\n",
      "STUDENT_week10_module5_Reproducibility.html_Master.ipynb\n",
      "UofTCoders_git_lesson_old\n",
      "UofT_Coders_Master_Reproducibility.ipynb\n",
      "week10_git_lesson\n",
      "total 3208\n",
      "drwxr-xr-x@ 14 princess  staff      448 14 Nov 16:01 BINF5503_Week10_Class\n",
      "drwxr-xr-x@ 15 princess  staff      480 14 Nov 16:42 Figures\n",
      "-rw-rw-r--@  1 princess  staff    83583 13 Mar  2024 Master_week10_module5_Reproducibility.html.html\n",
      "-rw-rw-r--@  1 princess  staff    35238  2 Apr  2024 Master_week10_module5_Reproducibility.html.ipynb\n",
      "-rw-rw-r--@  1 princess  staff  1397902 13 Mar  2024 Master_week10_module5_Reproducibility.html.pdf\n",
      "-rw-rw-r--@  1 princess  staff    29500  2 Apr  2024 STUDENT_week10_module5_Reproducibility.html.ipynb\n",
      "-rw-rw-r--@  1 princess  staff    24648 20 Mar  2024 STUDENT_week10_module5_Reproducibility.html_Master.ipynb\n",
      "drwxr-xr-x   7 princess  staff      224 14 Nov 16:58 UofTCoders_git_lesson_old\n",
      "-rw-r--r--   1 princess  staff    54711 14 Nov 16:59 UofT_Coders_Master_Reproducibility.ipynb\n",
      "drwxr-xr-x@  6 princess  staff      192 14 Nov 16:01 week10_git_lesson\n"
     ]
    },
    {
     "name": "stderr",
     "output_type": "stream",
     "text": [
      "hello.txt: No such file or directory\n",
      "cat: hello.txt: No such file or directory\n",
      "mv: rename hello.txt to ../hello.txt: No such file or directory\n",
      "mv: rename ../hello.txt to ./hello_there.txt: No such file or directory\n",
      "cp: hello_there.txt: No such file or directory\n",
      "rm: hello_there.txt: No such file or directory\n"
     ]
    }
   ],
   "source": [
    "%%bash\n",
    "pwd # path to working directory. Gives you the absolute file path of where you are\n",
    "ls # list. Will list all of the files in your directory\n",
    "ls -l # long list. Gives the long list of all the files in the directory\n",
    "mkdir temp/ # make directory. This makes a new folder\n",
    "cd temp/ # change directory. Will move \"you\" into the folder/directory you specify\n",
    "# vim hello.txt # open the vim text editor and make a note\n",
    "# hit i to go into insert mode, and start typing. Once done, hit esc, :wq to save and quit\n",
    "less hello.txt # view the file contents\n",
    "cat hello.txt # prints the contents of the file to standard out\n",
    "mv hello.txt ../ # move hello.txt into the parent directory\n",
    "mv ../hello.txt ./hello_there.txt # move hello.txt back to the current directory and rename it to hello_there.txt\n",
    "cp hello_there.txt hello_there_copy.txt # copy. Make a copy of the file\n",
    "rm hello_there.txt # remove. Delete the file\n",
    "\n",
    "cd ../ # go to parent directory\n",
    "rm -r temp/ #delete the temp folder and all it's contents"
   ]
  },
  {
   "cell_type": "markdown",
   "metadata": {},
   "source": [
    "## Git\n",
    "\n",
    "Now for the program of the hour! Git is a version control system that can be used to track file changes. While most commonly thought to be used for coding files only, **it can also be used for any file** including documents, figures, presentations etc. It's a great way to edit your files but also be able to **revert to a previous version if the need arises**. Used in tandem with **GitHub**, it can be a great way **to easily collaborate on projects with others**. It is important to note that you can use Git without having a GitHub account, however you cannot use GitHub without Git. \n",
    "\n",
    "<p align=\"center\"> \n",
    "    <img src=\"./Figures/Version_control.jpeg\"   width=\"400px\"  height=\"300px\" /> \n",
    "</p>\n",
    "\n",
    "### Configure git global settings on your local computer\n",
    "\n",
    "Before we start we need to tell git who we are so that we know who is making the files. We can do this using the `git config` commands\n",
    "\n"
   ]
  },
  {
   "cell_type": "code",
   "execution_count": 3,
   "metadata": {},
   "outputs": [],
   "source": [
    "%%bash\n",
    "\n",
    "# first tell git your email. Use the email you have when you set up your github account\n",
    "git config --global user.email \"y.harrypaul@yahoo.com\"\n",
    "\n",
    "# Next your name\n",
    "git config --global user.name \"Yeshoda Harry-Paul\"\n",
    "\n",
    "# Change the name of the branch from master to main\n",
    "git config --global init.defaultBranch main"
   ]
  },
  {
   "cell_type": "markdown",
   "metadata": {},
   "source": [
    "### Local git repo\n",
    "\n",
    "Let's make a local git repository. A repository **\\(or repo for short\\)** is a storage area for a project containing all the files for the project and the history of the changes made to it. **This repo will be on your local computer.** \n"
   ]
  },
  {
   "cell_type": "code",
   "execution_count": 4,
   "metadata": {},
   "outputs": [
    {
     "name": "stdout",
     "output_type": "stream",
     "text": [
      "/Users/princess/Downloads/10_reproducibility/UofTCoders_git_lesson\n"
     ]
    }
   ],
   "source": [
    "%%bash \n",
    "# Make a new folder that we want to use:\n",
    "mkdir UofTCoders_git_lesson\n",
    "cd UofTCoders_git_lesson\n",
    "pwd\n",
    "ls"
   ]
  },
  {
   "cell_type": "code",
   "execution_count": 5,
   "metadata": {},
   "outputs": [
    {
     "name": "stdout",
     "output_type": "stream",
     "text": [
      "Initialized empty Git repository in /Users/princess/Downloads/10_reproducibility/UofTCoders_git_lesson/.git/\n",
      "total 0\n",
      "drwxr-xr-x   3 princess  staff   96 14 Nov 17:00 .\n",
      "drwxr-xr-x@ 23 princess  staff  736 14 Nov 17:00 ..\n",
      "drwxr-xr-x   9 princess  staff  288 14 Nov 17:00 .git\n",
      "total 24\n",
      "drwxr-xr-x   9 princess  staff  288 14 Nov 17:00 .\n",
      "drwxr-xr-x   3 princess  staff   96 14 Nov 17:00 ..\n",
      "-rw-r--r--   1 princess  staff   23 14 Nov 17:00 HEAD\n",
      "-rw-r--r--   1 princess  staff  137 14 Nov 17:00 config\n",
      "-rw-r--r--   1 princess  staff   73 14 Nov 17:00 description\n",
      "drwxr-xr-x  14 princess  staff  448 14 Nov 17:00 hooks\n",
      "drwxr-xr-x   3 princess  staff   96 14 Nov 17:00 info\n",
      "drwxr-xr-x   4 princess  staff  128 14 Nov 17:00 objects\n",
      "drwxr-xr-x   4 princess  staff  128 14 Nov 17:00 refs\n"
     ]
    }
   ],
   "source": [
    "%%bash \n",
    "# Initialize the git repository\n",
    "cd UofTCoders_git_lesson\n",
    "git init\n",
    "ls -la # we see the new hidden .git folder\n",
    "ls -la .git"
   ]
  },
  {
   "cell_type": "code",
   "execution_count": 6,
   "metadata": {},
   "outputs": [
    {
     "name": "stdout",
     "output_type": "stream",
     "text": [
      "first_file.txt\n",
      "On branch master\n",
      "\n",
      "No commits yet\n",
      "\n",
      "Untracked files:\n",
      "  (use \"git add <file>...\" to include in what will be committed)\n",
      "\tfirst_file.txt\n",
      "\n",
      "nothing added to commit but untracked files present (use \"git add\" to track)\n"
     ]
    }
   ],
   "source": [
    "%%bash\n",
    "cd UofTCoders_git_lesson\n",
    "# Now that we have our git repo, lets add a file to it\n",
    "touch first_file.txt\n",
    "ls\n",
    "\n",
    "# Let's see how git is doing by checking it's status\n",
    "git status\n",
    "\n",
    "# git has noticed some untracked changes"
   ]
  },
  {
   "cell_type": "markdown",
   "metadata": {},
   "source": [
    "### Hold your horses! The staging environment, the commit and you\n",
    "\n",
    "Before we get going on our git train, it's important to differentiate between your working directory, the staging environment and a commit. Commits are r**ecords of the changes you've last made since a commit**. These are what allow you to jump between the different stages of your project. However, git does not commit on its own, **you need to tell git what you want to commit**. To do this we first need to **add the file to the staging area** via the command `git add`. Once you've made a nice package of files in the staging area, you can then **commit your changes to your repo** in the `.git` repository. Let's see what this looks like\n",
    "\n",
    "<p align=\"center\"> \n",
    "    <img src=\"./Figures/git_staging_area.png\"   width=\"700px\"  height=\"400px\" /> \n",
    "</p>\n",
    "\n"
   ]
  },
  {
   "cell_type": "code",
   "execution_count": 7,
   "metadata": {},
   "outputs": [
    {
     "name": "stdout",
     "output_type": "stream",
     "text": [
      "On branch master\n",
      "\n",
      "No commits yet\n",
      "\n",
      "Changes to be committed:\n",
      "  (use \"git rm --cached <file>...\" to unstage)\n",
      "\tnew file:   first_file.txt\n",
      "\n"
     ]
    }
   ],
   "source": [
    "%%bash\n",
    "cd UofTCoders_git_lesson\n",
    "\n",
    "# Now let's add our file to the staging environment\n",
    "git add first_file.txt\n",
    "git status # We see now that our file isn't committed but it is about to be"
   ]
  },
  {
   "cell_type": "code",
   "execution_count": 8,
   "metadata": {},
   "outputs": [
    {
     "name": "stdout",
     "output_type": "stream",
     "text": [
      "[master (root-commit) 5061b3f] Created empty file first_file.txt\n",
      " 1 file changed, 0 insertions(+), 0 deletions(-)\n",
      " create mode 100644 first_file.txt\n",
      "On branch master\n",
      "nothing to commit, working tree clean\n"
     ]
    }
   ],
   "source": [
    "%%bash\n",
    "cd UofTCoders_git_lesson\n",
    "\n",
    "# Now let's commit our file. We have the option to also add a message using the -m flag. It is always beneficial to write something useful so that when you are looking back between your versions it is easy to find what you're looking for \n",
    "git commit -m \"Created empty file first_file.txt\" first_file.txt\n",
    "git status # We see now that our file isn't committed but it is about to be"
   ]
  },
  {
   "cell_type": "code",
   "execution_count": 9,
   "metadata": {},
   "outputs": [],
   "source": [
    "%%bash\n",
    "cd UofTCoders_git_lesson\n",
    "\n",
    "# Great! You just created your first commit! Let's see what happens when we edit our file to add some information to it!\n",
    "\n",
    "#edit file in vim\n",
    "\n",
    "# git status #see that the file has been modified\n",
    "\n",
    "# git diff first_file.txt # what was different from the last commit?\n",
    "\n",
    "# git add first_file.txt #stage our changes\n",
    "# git status \n",
    "\n",
    "# git commit -m \"Added some filler text to file\" \n",
    "# git status"
   ]
  },
  {
   "cell_type": "code",
   "execution_count": 10,
   "metadata": {},
   "outputs": [
    {
     "name": "stdout",
     "output_type": "stream",
     "text": [
      "commit 5061b3f9de53b181a14f495c6f7ee45c07e2d763\n",
      "Author: Yeshoda Harry-Paul <y.harrypaul@yahoo.com>\n",
      "Date:   Thu Nov 14 17:01:02 2024 -0500\n",
      "\n",
      "    Created empty file first_file.txt\n"
     ]
    }
   ],
   "source": [
    "%%bash\n",
    "cd UofTCoders_git_lesson\n",
    "\n",
    "#let's see what we've done so far\n",
    "git log"
   ]
  },
  {
   "cell_type": "markdown",
   "metadata": {},
   "source": [
    "### Branching in Git\n",
    "\n",
    "Branching is a great way to work on a new idea, bug fixes or developing features **without affecting your** **`main`** **branch**. They are designed to be **temporary** and to facilitate edits and trials without breaking your original codebase. They allow you to keep your original `main` branch as is. For example, say I had a website and I wanted to make a new webpage. I can branch off of my main branch, create my webpage and then merge once it is completed. This way my website still stays functional as I work on my new webpage. \n",
    "\n",
    "<p align=\"center\"> \n",
    "    <img src=\"./Figures/branches.png\"   width=\"700px\"  height=\"400px\" /> \n",
    "</p>\n",
    "\n",
    "There are two phases of branch creation: 1**\\) Making a branch and 2\\) Moving to that branch**. Both of these steps can be combined into one but let us take it one at a time. First, let's make a new branch called new\\_files. Just like commits and variable names, it helps to have meaningful branch names so that you know what that branch is meant to be working on \n"
   ]
  },
  {
   "cell_type": "code",
   "execution_count": 11,
   "metadata": {},
   "outputs": [
    {
     "name": "stdout",
     "output_type": "stream",
     "text": [
      "commit 5061b3f9de53b181a14f495c6f7ee45c07e2d763\n",
      "Author: Yeshoda Harry-Paul <y.harrypaul@yahoo.com>\n",
      "Date:   Thu Nov 14 17:01:02 2024 -0500\n",
      "\n",
      "    Created empty file first_file.txt\n",
      "On branch master\n",
      "nothing to commit, working tree clean\n",
      "* master\n",
      "  new_branch\n",
      "  master\n",
      "* new_branch\n",
      "commit 5061b3f9de53b181a14f495c6f7ee45c07e2d763\n",
      "Author: Yeshoda Harry-Paul <y.harrypaul@yahoo.com>\n",
      "Date:   Thu Nov 14 17:01:02 2024 -0500\n",
      "\n",
      "    Created empty file first_file.txt\n",
      "On branch new_branch\n",
      "nothing to commit, working tree clean\n"
     ]
    },
    {
     "name": "stderr",
     "output_type": "stream",
     "text": [
      "Switched to branch 'new_branch'\n"
     ]
    }
   ],
   "source": [
    "%%bash\n",
    "cd UofTCoders_git_lesson\n",
    "\n",
    "git branch new_branch\n",
    "git log\n",
    "git status # notice that while we made a branch our status has not changed\n",
    "git branch --list\n",
    "\n",
    "# move to that branch\n",
    "git checkout new_branch\n",
    "git branch --list\n",
    "\n",
    "git log\n",
    "git status # now our branch has changed"
   ]
  },
  {
   "cell_type": "code",
   "execution_count": 12,
   "metadata": {},
   "outputs": [
    {
     "name": "stdout",
     "output_type": "stream",
     "text": [
      "On branch new_branch\n",
      "Untracked files:\n",
      "  (use \"git add <file>...\" to include in what will be committed)\n",
      "\tsecond_file.txt\n",
      "\n",
      "nothing added to commit but untracked files present (use \"git add\" to track)\n",
      "On branch new_branch\n",
      "Untracked files:\n",
      "\tsecond_file.txt\n",
      "\n",
      "nothing added to commit but untracked files present\n",
      "[new_branch 9a7d541] adding second file\n",
      " 1 file changed, 0 insertions(+), 0 deletions(-)\n",
      " create mode 100644 second_file.txt\n",
      "first_file.txt\n",
      "* master\n",
      "  new_branch\n",
      "Updating 5061b3f..9a7d541\n",
      "Fast-forward\n",
      " second_file.txt | 0\n",
      " 1 file changed, 0 insertions(+), 0 deletions(-)\n",
      " create mode 100644 second_file.txt\n",
      "Deleted branch new_branch (was 9a7d541).\n",
      "On branch master\n",
      "nothing to commit, working tree clean\n"
     ]
    },
    {
     "name": "stderr",
     "output_type": "stream",
     "text": [
      "Switched to branch 'master'\n"
     ]
    }
   ],
   "source": [
    "%%bash\n",
    "cd UofTCoders_git_lesson\n",
    "\n",
    "# Let's make some changes to our files\n",
    "\n",
    "# edit first_file.txt\n",
    "\n",
    "cp first_file.txt second_file.txt # make a copy called second_file.txt\n",
    "git status\n",
    "\n",
    "# edit the second_file.txt\n",
    "\n",
    "git commit -a  -m \"Added another line of text about the weather to file\" #Notice how it only added changes and committed for the first_file.txt as git was watching it\n",
    "\n",
    "# Let's add and commit the other files\n",
    "git add * # the * will add all the files in the current folder at once, rather than having to type them all individually\n",
    "git commit -m \"adding second file\"\n",
    "\n",
    "# now let's merge our branch back to the main one\n",
    "# First head back to the main branch\n",
    "git checkout master\n",
    "ls\n",
    "\n",
    "git branch --list\n",
    "\n",
    "# Merge your branch\n",
    "git merge new_branch\n",
    "\n",
    "# Delete the old branch since there's no use for it anymore \n",
    "git branch -d new_branch\n",
    "\n",
    "git status"
   ]
  },
  {
   "cell_type": "markdown",
   "metadata": {},
   "source": [
    "### Going back to a previous commit\n",
    "\n",
    "Sometimes we had versions of our code that worked better or documents that were worded more eloquently, but we no longer have them as we've modified the same file. With Git, **as long as the file was committed** we can revert to that version. Let's play around with it:\n"
   ]
  },
  {
   "cell_type": "code",
   "execution_count": 13,
   "metadata": {},
   "outputs": [
    {
     "name": "stdout",
     "output_type": "stream",
     "text": [
      "[master 3168bd8] adding temporary file to delete\n",
      " 1 file changed, 0 insertions(+), 0 deletions(-)\n",
      " create mode 100644 temp.txt\n",
      "first_file.txt\n",
      "second_file.txt\n",
      "On branch master\n",
      "Changes not staged for commit:\n",
      "  (use \"git add/rm <file>...\" to update what will be committed)\n",
      "  (use \"git restore <file>...\" to discard changes in working directory)\n",
      "\tdeleted:    temp.txt\n",
      "\n",
      "no changes added to commit (use \"git add\" and/or \"git commit -a\")\n",
      "On branch master\n",
      "nothing to commit, working tree clean\n",
      "[master b3f5db5] added temp2.txt\n",
      " 1 file changed, 0 insertions(+), 0 deletions(-)\n",
      " create mode 100644 temp2.txt\n"
     ]
    }
   ],
   "source": [
    "%%bash\n",
    "cd UofTCoders_git_lesson\n",
    "\n",
    "# Make a temporary file and commit it\n",
    "touch temp.txt\n",
    "git add temp.txt\n",
    "git commit -m \"adding temporary file to delete\"\n",
    "\n",
    "# Remove the file and update git\n",
    "rm temp.txt\n",
    "ls # Check that our file is deleted\n",
    "git status # while we deleted the file locally, it is still in our repo\n",
    "# git rm temp.txt # delete from git repo\n",
    "# git restore --staged temp.txt # can pull our file back if didn't commit\n",
    "git restore temp.txt\n",
    "git commit -m \"deleted temporary file\"\n",
    "\n",
    "# Make some minor changes\n",
    "touch temp2.txt\n",
    "git add temp2.txt \n",
    "git commit -m \"added temp2.txt\"\n",
    "\n",
    "## Revert back to the previous commit\n",
    "# Get the commit ID\n",
    "# git log --oneline\n",
    "# git revert --no-commit 79c4a61..HEAD #use the --no-commit flag to avoid an automatic commit \n",
    "# ls\n",
    "# git commit -m \"reverting back to other commit with temp.txt\"\n",
    "\n",
    "## Revert but keep changes, can also do with the one above ^ however this one will delete the commits following the one you want to go to\n",
    "# git reset --soft 8e4a7e0\n",
    "# git restore --staged <file>\n",
    "# git restore <file>\n",
    "# git commit -m \"message\"\n",
    "# git log"
   ]
  },
  {
   "attachments": {},
   "cell_type": "markdown",
   "metadata": {},
   "source": [
    "## Integrating GitHub\n",
    "\n",
    "Now that we have some of the basics under our belt let's push something to GitHub. First we need to create an access token to be able to push our work to a repository on GitHub. \n",
    "\n",
    "Click on your profile picture on Github and Navigate to `Settings`. Once there scroll all the way down to `Developer settings`. Next navigate to `Personal Access Tokens` > `Tokens Classic` > `Generate New Token`. Select all the permissions you would like this key to be able to access. Once you generate your key **KEEP IT SOMEWHERE SAFE**. You will not be able to view it again. \n",
    "\n",
    "<p align=\"center\"> \n",
    "    <img src=\"./Figures/Personal Access Tokens.png\"   width=\"300px\"  height=\"300px\" /> \n",
    "</p>\n",
    "\n",
    "\n",
    "Now that we have our key we can create a new repo on GitHub. We can do this by logging in, pressing the plus button (create new) and selecting \"New Repository\"\n",
    "\n",
    "<p align=\"center\"> \n",
    "    <img src=\"./Figures/GitHub Repo.png\"   width=\"700px\"  height=\"400px\" /> \n",
    "</p>\n",
    "\n",
    "Next we can go ahead and name our repository and add a brief description. Once that is done go ahead and press \"Create repository\". \n",
    "\n",
    "<p align=\"center\"> \n",
    "    <img src=\"./Figures/Naming_repo.png\"   width=\"700px\"  height=\"400px\" /> \n",
    "</p>\n",
    "\n",
    "GitHub gives us the option of pushing an existing repo from the commandline. Let's go ahead and push our week10_git_lesson folder to our GitHub:"
   ]
  },
  {
   "cell_type": "code",
   "execution_count": null,
   "metadata": {},
   "outputs": [],
   "source": [
    "%%bash\n",
    "cd UofTCoders_git_lesson\n",
    "\n",
    "git remote add origin https://github.com/YeshodaHP/UofTCoders_Git_Lesson_2024.git\n",
    "git branch -M main\n",
    "git push -u origin main\n",
    "\n",
    "#This will prompt you to input your username and password (Now using token)\n",
    "# To generate a token go to settings > developer settings > Personal access tokens > Generate new token"
   ]
  },
  {
   "cell_type": "markdown",
   "metadata": {},
   "source": [
    "Great! Now we can see our files and commits on our GitHub! Note that now when we want to place our files onto GitHub (the remote directory), we now have to `push` it there. Let's try creating a file and pushing it to our GitHub\n",
    "\n",
    "<p align=\"center\"> \n",
    "    <img src=\"./Figures/git_workflow.png\"   width=\"700px\"  height=\"400px\" /> \n",
    "</p>"
   ]
  },
  {
   "cell_type": "markdown",
   "metadata": {},
   "source": [
    "You should now be able to see your new file in your repo!"
   ]
  },
  {
   "cell_type": "code",
   "execution_count": null,
   "metadata": {},
   "outputs": [],
   "source": [
    "%%bash\n",
    "cd week10_git_lesson\n",
    "\n",
    "#Make a new file, add and commit\n",
    "vim github.txt\n",
    "git add github.txt \n",
    "git commit -m \"Adding new github.txt file\"\n",
    "\n",
    "# now push it to GitHub\n",
    "git push "
   ]
  },
  {
   "cell_type": "markdown",
   "metadata": {},
   "source": [
    "## Collaborative Repos\n",
    "Great! Now that we've pushed files to GitHub let's try to use it in a collaborative way. There are two common collaborative workflows:\n",
    "1. The Shared Repository Workflow\n",
    "\t- Everyone works on their own branch and then merges to the main\n",
    "2. The Fork and Pull Workflow\n",
    "\t- The project owner can assign rights to \"collaborators\" which do not have push access to the main branch. The project lead will accept pull requests (PRs), review and accept changes made\n",
    "    \n",
    "Let's see how the shared repo workflow looks!\n",
    "\n",
    "### Shared Repo\n",
    "Let's try creating a file with your name as the file name, containing something fun about you. Let's push it to Yeshoda's GitHub. First we will need to clone her repo located at: https://github.com/YeshodaHP/UofTCoders_Git_Lesson_2024.git. Next create a branch with your name, create your file, commit and push!\n",
    "\n",
    "Remember to always pull before you start to do your work so that you're on the most recent branch!"
   ]
  },
  {
   "cell_type": "code",
   "execution_count": null,
   "metadata": {},
   "outputs": [],
   "source": [
    "%%bash\n",
    "git clone https://github.com/YeshodaHP/UofTCoders_Git_Lesson_2024.git #clone the repo\n",
    "\n",
    "git fetch #fetch new work done by others - it does not merge with your branch\n",
    "\n",
    "git merge #merge the work you've done with others\n",
    "\n",
    "git pull # will pull all the online work and merge it with your local work. Make sure you commit your own work before pulling \n",
    "\n",
    "#Create a branch with your name as the branch and add a new file with your name and something fun about you!\n",
    "git branch Yeshoda_HP\n",
    "git checkout Yeshoda_HP\n",
    "#vim Yeshoda_HP.txt\n",
    "git add Yeshoda_HP.txt\n",
    "git commit -m \"Yeshoda is adding her file\"\n",
    "git push --set-upstream origin Yeshoda\n",
    "\n",
    "#go back to the main branch and delete your branch\n",
    "git checkout main\n",
    "git branch -d Yeshoda"
   ]
  },
  {
   "cell_type": "markdown",
   "metadata": {},
   "source": [
    "# Recap\n",
    "Amazing Job! So far today we learned about :\n",
    "- Reproducibility and why it is important\n",
    "- File hierarchies\n",
    "- The BASH console and some common commands\n",
    "- An intro to Git\n",
    "\t- Where we learned to make a local repository \n",
    "    - How to commit changes\n",
    "    - Create branches \n",
    "    - How to revert to previous commits\n",
    " - GitHub:\n",
    " \t- How to connect and clone\n",
    "    - How to collaborate with other users. \n",
    "    \n",
    "We did a lot of Git today, and we know there is a lot of jargon surrounding git so here is a breif recap:\n",
    "\n",
    "| Term      | Description |\n",
    "| ----------- | ----------- |\n",
    "| Add | Adding your changes to the “Staging” area|\n",
    "| Branch | A parallel version of a repository where changes can be made that do not affect the main repository. New branches are often used to test changes or new ideas, which can later be merged with the base branch|\n",
    "| Checkout | Moving from one branch to another|\n",
    "| Clone | Make a copy of the your GitHub repo on your local computer|\n",
    "| Commit | Takes the files in your staging area and store their changes permanently in your Git directory|\n",
    "| Head | Head is a reference or pointer of the latest commit on your branch, there can only be one head at a time. You can move the head to a different commit by using checkout - this is known as a detatched head |\n",
    "| Merge | Incorporate changes into the branch you are on|\n",
    "| Pull | A combination of fetch and merge. This fetches the files from the remote repo and merges them with your local files|\n",
    "| Pull Request | Term used in collaboration. You “issue a pull request” to the owner of the upstream repo asking them to pull your changes into their repo (accept your work)|\n",
    "| Push | Sync your file changes to the remote repo on GitHub|\n",
    "\n",
    "As always if you have any questions feel free to email both Yeshoda and Vicki! Happy coding, see you next week!\n"
   ]
  }
 ],
 "metadata": {
  "kernelspec": {
   "display_name": "Python 3 (ipykernel)",
   "language": "python",
   "name": "python3"
  },
  "language_info": {
   "codemirror_mode": {
    "name": "ipython",
    "version": 3
   },
   "file_extension": ".py",
   "mimetype": "text/x-python",
   "name": "python",
   "nbconvert_exporter": "python",
   "pygments_lexer": "ipython3",
   "version": "3.10.0"
  },
  "toc": {
   "base_numbering": 1,
   "nav_menu": {},
   "number_sections": true,
   "sideBar": true,
   "skip_h1_title": false,
   "title_cell": "Table of Contents",
   "title_sidebar": "Contents",
   "toc_cell": false,
   "toc_position": {},
   "toc_section_display": true,
   "toc_window_display": false
  },
  "varInspector": {
   "cols": {
    "lenName": 16,
    "lenType": 16,
    "lenVar": 40
   },
   "kernels_config": {
    "python": {
     "delete_cmd_postfix": "",
     "delete_cmd_prefix": "del ",
     "library": "var_list.py",
     "varRefreshCmd": "print(var_dic_list())"
    },
    "r": {
     "delete_cmd_postfix": ") ",
     "delete_cmd_prefix": "rm(",
     "library": "var_list.r",
     "varRefreshCmd": "cat(var_dic_list()) "
    }
   },
   "types_to_exclude": [
    "module",
    "function",
    "builtin_function_or_method",
    "instance",
    "_Feature"
   ],
   "window_display": false
  }
 },
 "nbformat": 4,
 "nbformat_minor": 4
}
