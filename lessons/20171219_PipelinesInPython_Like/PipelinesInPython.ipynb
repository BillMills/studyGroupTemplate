{
 "cells": [
  {
   "cell_type": "markdown",
   "metadata": {},
   "source": [
    "### Previous knowledge\n",
    "https://github.com/ScienceParkStudyGroup/studyGroup/blob/gh-pages/lessons/20171010_Intro_to_Python_Like/1hr_python_workshop.ipynb"
   ]
  },
  {
   "cell_type": "markdown",
   "metadata": {},
   "source": [
    "# Pipelines in Python \n",
    "\n",
    "Reproducability is pivotal in science. \n",
    "Reproducability means that you or someone else can replicate exactly what you have done and check whether he/she gets similar results. **Preferably in a reasonable amount of time!**\n",
    "\n",
    "___\n",
    "##### Can you think of examples of situations in which reproducability is hampered?    \n",
    "##### (How) can this be avoided?\n",
    "___\n",
    "\n",
    "\n",
    "\n"
   ]
  },
  {
   "cell_type": "markdown",
   "metadata": {},
   "source": [
    "When we use programs and the commandline there is an automatic log of what we've done -we just have to save it. This is in contrast to most procedures in the lab, where we intent to follow a protocol, but are not sure whether we have actually followed it (or made some mistake). Also when using computational work that involves mouse-clicks, most times our actions are not logged and we have to go back and figure out what when went wrong IF we notice a mistake has been made.\n",
    "\n",
    "Today we will explore how we can use Python to build pipelines. Most pipelines have more or less the following architecture:\n",
    "\n",
    "<img src='images/Pipelines.png', height=400, width=200>\n",
    "\n",
    "Individual steps are often performed using 3rd party software, that can be run from the commandline. You can run commands from a python program using `system(cmnd)` from the `os` module (https://docs.python.org/3/library/os.html).\n",
    "\n",
    "___\n",
    "##### How do you find out how to use a commandline program? \n",
    "___\n",
    ">- search the online documentation  \n",
    ">- use man _program name_  \n",
    ">- run the program with --help (often long help)  \n",
    ">- run the program with -h (often short help)  \n",
    ">- run the program without arguments  \n",
    "\n",
    "\n",
    "For today, we won't bother with 3rd party software because it takes to time and effort we would need to get everyone (Windows/Mac/Linux users) on the same page. Instead we will use operating system commands for our examples.\n",
    "\n",
    "Create a temporary directory for this course\n",
    "\n",
    "> **mkdir** _dirname_  \n",
    "\n",
    "Then go in to this directory \n",
    "\n",
    "> **cd** _dirname_  \n",
    "\n",
    "and create a file called tempfilename.txt:  \n",
    "MacOS/Linux  \n",
    "> **touch** tempfilename.txt  \n",
    "  \n",
    "Windows  \n",
    "> **echo blabla >** tempfilename.txt  \n",
    "  \n",
    "\n",
    "Let's now try this in Python.\n"
   ]
  },
  {
   "cell_type": "code",
   "execution_count": 6,
   "metadata": {},
   "outputs": [
    {
     "name": "stdout",
     "output_type": "stream",
     "text": [
      "/Users/like/Dropbox/02.Teaching/StudyGroup/20171219_PipelinesInPython/notebook\n"
     ]
    }
   ],
   "source": [
    "#first import the os module\n",
    "import os\n",
    "\n",
    "# where are we?\n",
    "# the working directory is the directory you were in when you started python (notebook).\n",
    "print(os.getcwd())\n",
    "\n"
   ]
  },
  {
   "cell_type": "code",
   "execution_count": 4,
   "metadata": {},
   "outputs": [
    {
     "ename": "FileExistsError",
     "evalue": "[Errno 17] File exists: 'temp'",
     "output_type": "error",
     "traceback": [
      "\u001b[0;31m---------------------------------------------------------------------------\u001b[0m",
      "\u001b[0;31mFileExistsError\u001b[0m                           Traceback (most recent call last)",
      "\u001b[0;32m<ipython-input-4-653f6503ade0>\u001b[0m in \u001b[0;36m<module>\u001b[0;34m()\u001b[0m\n\u001b[1;32m      1\u001b[0m \u001b[0;31m# make the directory\u001b[0m\u001b[0;34m\u001b[0m\u001b[0;34m\u001b[0m\u001b[0m\n\u001b[0;32m----> 2\u001b[0;31m \u001b[0mos\u001b[0m\u001b[0;34m.\u001b[0m\u001b[0mmkdir\u001b[0m\u001b[0;34m(\u001b[0m\u001b[0;34m'temp'\u001b[0m\u001b[0;34m)\u001b[0m\u001b[0;34m\u001b[0m\u001b[0m\n\u001b[0m",
      "\u001b[0;31mFileExistsError\u001b[0m: [Errno 17] File exists: 'temp'"
     ]
    }
   ],
   "source": [
    "# make the directory\n",
    "os.mkdir('temp')"
   ]
  },
  {
   "cell_type": "markdown",
   "metadata": {},
   "source": [
    "This raises an error because this directory already exists -we just made it on the commandline. \n",
    "So let's first delete it:\n",
    "Safely:\n",
    "MacOS/Linux  \n",
    "**rm ** temp/tempfilename  \n",
    "**rm ** temp  \n",
    "    \n",
    "Windows  \n",
    "**del** temp/tempfilename  \n",
    "**del ** temp  \n",
    "\n",
    "With force:  \n",
    "MacOS/Linux  \n",
    "**rm -r** temp\n",
    "  \n",
    "Windows  \n",
    "**deltree** temp  \n"
   ]
  },
  {
   "cell_type": "code",
   "execution_count": 7,
   "metadata": {},
   "outputs": [
    {
     "name": "stdout",
     "output_type": "stream",
     "text": [
      "/Users/like/Dropbox/02.Teaching/StudyGroup/20171219_PipelinesInPython/notebook/temp\n"
     ]
    },
    {
     "data": {
      "text/plain": [
       "0"
      ]
     },
     "execution_count": 7,
     "metadata": {},
     "output_type": "execute_result"
    }
   ],
   "source": [
    "#make the temp directory again, using the os module\n",
    "os.mkdir('temp')\n",
    "\n",
    "#let's go in\n",
    "os.chdir('temp')\n",
    "\n",
    "#where are we?\n",
    "print(os.getcwd())\n",
    "\n",
    "#make our tempfile again\n",
    "os.system('touch tempfilename.txt')\n"
   ]
  },
  {
   "cell_type": "markdown",
   "metadata": {},
   "source": [
    "os.system returns a value, we will not go into this further, but let me say that if it returns a 0, it means all is well. Non-zero returns indicate something went wrong. You can use this as checkpoints in your pipeline.  \n",
    "  \n",
    "One important point of programming is to automate repetitive tasks. So suppose we want to create 4 files, how do we this?\n",
    "\n",
    "To get you started I will repeat what we learned on for-loops"
   ]
  },
  {
   "cell_type": "code",
   "execution_count": 8,
   "metadata": {},
   "outputs": [
    {
     "name": "stdout",
     "output_type": "stream",
     "text": [
      "Like0\n",
      "Like1\n",
      "Like2\n",
      "Like3\n"
     ]
    }
   ],
   "source": [
    "my_name = 'Like'\n",
    "for i in range(4): #range(n) generates a list with integers [0,1,..,n-1]\n",
    "    print(my_name+str(i))\n",
    "    "
   ]
  },
  {
   "cell_type": "markdown",
   "metadata": {},
   "source": [
    "___\n",
    "##### Can you use a for-loop to generate 4 temporary files: tempfilename0.txt, tempfilename1.txt, .. , tempfilename3.txt?  \n",
    "First just print these to the screen to check whether your commands look OK, then adjust the code so you actually execute these commands.\n",
    "___\n"
   ]
  },
  {
   "cell_type": "code",
   "execution_count": 11,
   "metadata": {},
   "outputs": [
    {
     "name": "stdout",
     "output_type": "stream",
     "text": [
      "touch tempfilename0.txt\n",
      "touch tempfilename1.txt\n",
      "touch tempfilename2.txt\n",
      "touch tempfilename3.txt\n"
     ]
    }
   ],
   "source": [
    "fname_base = 'tempfilename'\n",
    "for i in range(4):\n",
    "    cmnd = 'touch '+fname_base+str(i)+'.txt'\n",
    "    print(cmnd)\n",
    "    os.system(cmnd)"
   ]
  },
  {
   "cell_type": "markdown",
   "metadata": {},
   "source": [
    "Let's revisit our schematic pipeline:\n",
    "  \n",
    "<img src='images/Pipelines.png', height=400, width=200>\n",
    "  \n",
    "'Data 0.0' probably consists of multiple files, on which we want to perform the same procedure. Python has a module `glob` that can be used to e.g. get a list of all the files in a directory.\n"
   ]
  },
  {
   "cell_type": "code",
   "execution_count": 16,
   "metadata": {},
   "outputs": [
    {
     "name": "stdout",
     "output_type": "stream",
     "text": [
      "5 files:\n",
      "['tempfilename.txt', 'tempfilename1.txt', 'tempfilename0.txt', 'tempfilename2.txt', 'tempfilename3.txt']\n"
     ]
    }
   ],
   "source": [
    "import glob\n",
    "\n",
    "\n",
    "input_fnames = glob.glob('*') # '*' selects all files in this directory\n",
    "print(str(len(input_fnames))+' files:')\n",
    "print(input_fnames)\n",
    "\n",
    "\n",
    "\n"
   ]
  },
  {
   "cell_type": "markdown",
   "metadata": {},
   "source": [
    "___\n",
    "##### Can you use `glob` and `os` to change the file extension for all filenames in the temp directory, from '.txt' into '.bla' ?\n",
    "\n",
    "Hints:  \n",
    "\n",
    "MacOS/Linux  \n",
    "**mv** _oldFilename newFilename_  \n",
    "  \n",
    "Windows  \n",
    "**rename** _oldFilename newFilename_    \n",
    "\n",
    "___\n"
   ]
  },
  {
   "cell_type": "code",
   "execution_count": 24,
   "metadata": {},
   "outputs": [
    {
     "name": "stdout",
     "output_type": "stream",
     "text": [
      "['tempfilename1', 'txt']\n",
      "tempfilename1.\n"
     ]
    }
   ],
   "source": [
    "#Hint:\n",
    "fname = 'tempfilename1.txt'\n",
    "print(fname.split('.'))\n",
    "print(fname[:-3])\n"
   ]
  },
  {
   "cell_type": "code",
   "execution_count": 27,
   "metadata": {},
   "outputs": [
    {
     "name": "stdout",
     "output_type": "stream",
     "text": [
      "mv tempfilename.txt tempfilename.bla\n",
      "mv tempfilename1.txt tempfilename1.bla\n",
      "mv tempfilename0.txt tempfilename0.bla\n",
      "mv tempfilename2.txt tempfilename2.bla\n",
      "mv tempfilename3.txt tempfilename3.bla\n"
     ]
    }
   ],
   "source": [
    "#Answer\n",
    "input_fnames = glob.glob('*') # '*' selects all files in this directory\n",
    "for fname in input_fnames:\n",
    "\n",
    "    cmnd  = 'mv '+fname+' '+fname[:-3]+'bla'\n",
    "    print(cmnd)\n",
    "    os.system(cmnd)\n",
    "    "
   ]
  },
  {
   "cell_type": "code",
   "execution_count": null,
   "metadata": {
    "collapsed": true
   },
   "outputs": [],
   "source": [
    "# you also specify the full path\n",
    "indir = os.getcwd()\n",
    "input_fnames = glob.glob(indir+'*') # '*' selects all files in this directory\n",
    "print(str(len(input_fnames))+' files:')\n",
    "print(input_fnames)"
   ]
  },
  {
   "cell_type": "markdown",
   "metadata": {},
   "source": [
    "We only get one file! This is because `os.getcwd()` returns the path without a trailing '/'."
   ]
  },
  {
   "cell_type": "code",
   "execution_count": 15,
   "metadata": {},
   "outputs": [
    {
     "name": "stdout",
     "output_type": "stream",
     "text": [
      "5 files:\n",
      "['/Users/like/Dropbox/02.Teaching/StudyGroup/20171219_PipelinesInPython/notebook/temp/tempfilename.txt', '/Users/like/Dropbox/02.Teaching/StudyGroup/20171219_PipelinesInPython/notebook/temp/tempfilename1.txt', '/Users/like/Dropbox/02.Teaching/StudyGroup/20171219_PipelinesInPython/notebook/temp/tempfilename0.txt', '/Users/like/Dropbox/02.Teaching/StudyGroup/20171219_PipelinesInPython/notebook/temp/tempfilename2.txt', '/Users/like/Dropbox/02.Teaching/StudyGroup/20171219_PipelinesInPython/notebook/temp/tempfilename3.txt']\n"
     ]
    }
   ],
   "source": [
    "#you also specify the full path\n",
    "indir = os.getcwd()\n",
    "input_fnames = glob.glob(indir+'/*') # '*' selects all files in this directory\n",
    "print(str(len(input_fnames))+' files:')\n",
    "print(input_fnames)"
   ]
  },
  {
   "cell_type": "markdown",
   "metadata": {},
   "source": [
    "Why do we bother with full paths?  \n",
    "Because you should organize your data such that not all files are in a single directory.\n",
    "Let's do some project organization:\n",
    "\n",
    "`scripts` or `notebooks` \n",
    "  \n",
    "`raw input` (read only!)  \n",
    "  \n",
    "`1.Data_cleaning`  \n",
    "subdirs:  \n",
    ">`1.0_RemoveContaminants`  \n",
    ">`2.0_RemoveOutliers`  \n",
    ">`2.1_RemoveOutliers`   \n",
    ">`3.0_FillInMissingValues`  \n",
    ">`3.1_FillInMissingValues`\n",
    "\n",
    "`2.Analyses`\n",
    "subdirs: \n",
    ">`Frequency plots`  \n",
    ">`Heatmaps`  \n",
    ">`PCA`  \n",
    ">`Cross-comparison__SPECIES`  \n",
    ">`Cross-comparison__TIME`  \n",
    "\n",
    "`logs` or `docs`\n",
    "\n",
    "\n",
    "Creating these directories should be part of your pipeline. Similarly, you can (and probably should) automatically create logfiles, READMEs etc.  \n",
    "  \n",
    "A pipeline consists of a series of _modules_ or _steps_ that each have their input and output directory, logfile and README. So your code will look something like this:\n",
    "\n",
    "\n",
    "#### init() \n",
    "\n",
    "#### step1()  \n",
    ">    - create directories: OUTPUT, logs  \n",
    ">    - create README: metadata for the files you create\n",
    ">    - create logfile: cmnds, error messages, etc.  \n",
    ">    - do the actual task:\n",
    ">\n",
    ">**remove_contaminants -i [inputfile] -o [outfile]**  \n",
    ">\n",
    ">indir = `raw_data`  \n",
    ">for _file_ in glob.glob(indir+'/*'):  \n",
    ">     \n",
    ">     remove_contaminants -i file -o OUTPUT/file.contaminantsRemoved.out >& logs/remove_contaminants.file.log  \n",
    "     \n",
    "#### step2()  \n",
    ">    - create directories: OUTPUT, logs  \n",
    ">    - create README: metadata for the files you create\n",
    ">    - create logfile: cmnds, error messages, etc.  \n",
    ">    - do the actual task:\n",
    ">\n",
    ">**remove_outliers -i [inputfile] -t [treshold] -o [outfile]**  \n",
    ">\n",
    ">indir = `1.0_RemoveContaminants/OUTPUT/`  \n",
    ">for _file_ in (indir+'/*'):  \n",
    ">     \n",
    ">     remove_outliers -i file -o OUTPUT/file.outlierssRemoved.out -t T >& logs/remove_outliers.file.log  \n",
    "     \n",
    "     \n",
    "etc..."
   ]
  },
  {
   "cell_type": "markdown",
   "metadata": {
    "collapsed": true
   },
   "source": [
    "___\n",
    "##### You see that we pass arguments to our fictional commandline tools. Can you think of situations in which you want to pass arguments to your own pipeline?\n",
    "___\n",
    "\n",
    "#### The argparse module\n",
    "\n",
    "The `argparse` module is designed to pass all kinds of arguments to your module.  \n",
    "** IT IS AWESOME! **  \n",
    "Why?  \n",
    "- it automatically generates help-text with -h or --help  \n",
    "- if certain arguments are necessary, you can flag them as such and it automatically gives an error message if the user does not pass that argument  \n",
    "- it can deal with conditional arguments  \n",
    "- you can group arguments  \n",
    "\n",
    "Check the docs:  \n",
    "https://docs.python.org/3/library/argparse.html  \n"
   ]
  },
  {
   "cell_type": "code",
   "execution_count": null,
   "metadata": {
    "collapsed": true
   },
   "outputs": [],
   "source": []
  }
 ],
 "metadata": {
  "kernelspec": {
   "display_name": "Python 3",
   "language": "python",
   "name": "python3"
  },
  "language_info": {
   "codemirror_mode": {
    "name": "ipython",
    "version": 3
   },
   "file_extension": ".py",
   "mimetype": "text/x-python",
   "name": "python",
   "nbconvert_exporter": "python",
   "pygments_lexer": "ipython3",
   "version": "3.6.3"
  }
 },
 "nbformat": 4,
 "nbformat_minor": 2
}
